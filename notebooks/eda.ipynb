{
 "cells": [
  {
   "cell_type": "code",
   "execution_count": 1,
   "id": "f2ab0689",
   "metadata": {},
   "outputs": [
    {
     "data": {
      "text/html": [
       "<pre style=\"white-space:pre;overflow-x:auto;line-height:normal;font-family:Menlo,'DejaVu Sans Mono',consolas,'Courier New',monospace\"><span style=\"color: #7fbfbf; text-decoration-color: #7fbfbf\">[05/06/23 16:01:36] </span><span style=\"color: #800000; text-decoration-color: #800000\">WARNING </span> <span style=\"color: #800080; text-decoration-color: #800080\">/Users/gurau/code/training/udacity_de/airport-data-project/venv/lib/py</span> <a href=\"file:///Users/gurau/.pyenv/versions/3.8.10/lib/python3.8/warnings.py\" target=\"_blank\"><span style=\"color: #7f7f7f; text-decoration-color: #7f7f7f\">warnings.py</span></a><span style=\"color: #7f7f7f; text-decoration-color: #7f7f7f\">:</span><a href=\"file:///Users/gurau/.pyenv/versions/3.8.10/lib/python3.8/warnings.py#109\" target=\"_blank\"><span style=\"color: #7f7f7f; text-decoration-color: #7f7f7f\">109</span></a>\n",
       "<span style=\"color: #7fbfbf; text-decoration-color: #7fbfbf\">                    </span>         <span style=\"color: #800080; text-decoration-color: #800080\">thon3.8/site-packages/kedro/extras/extensions/</span><span style=\"color: #ff00ff; text-decoration-color: #ff00ff\">ipython.py</span>:<span style=\"color: #008080; text-decoration-color: #008080; font-weight: bold\">18</span>:           <span style=\"color: #7f7f7f; text-decoration-color: #7f7f7f\">               </span>\n",
       "<span style=\"color: #7fbfbf; text-decoration-color: #7fbfbf\">                    </span>         DeprecationWarning: kedro.extras.extensions.ipython should be accessed <span style=\"color: #7f7f7f; text-decoration-color: #7f7f7f\">               </span>\n",
       "<span style=\"color: #7fbfbf; text-decoration-color: #7fbfbf\">                    </span>         only using the alias kedro.ipython. The unaliased name will be removed <span style=\"color: #7f7f7f; text-decoration-color: #7f7f7f\">               </span>\n",
       "<span style=\"color: #7fbfbf; text-decoration-color: #7fbfbf\">                    </span>         in Kedro <span style=\"color: #008080; text-decoration-color: #008080; font-weight: bold\">0.19</span>.<span style=\"color: #008080; text-decoration-color: #008080; font-weight: bold\">0</span>.                                                       <span style=\"color: #7f7f7f; text-decoration-color: #7f7f7f\">               </span>\n",
       "<span style=\"color: #7fbfbf; text-decoration-color: #7fbfbf\">                    </span>           <span style=\"color: #800080; text-decoration-color: #800080; font-weight: bold\">warnings.warn</span><span style=\"font-weight: bold\">(</span>                                                       <span style=\"color: #7f7f7f; text-decoration-color: #7f7f7f\">               </span>\n",
       "<span style=\"color: #7fbfbf; text-decoration-color: #7fbfbf\">                    </span>                                                                                <span style=\"color: #7f7f7f; text-decoration-color: #7f7f7f\">               </span>\n",
       "</pre>\n"
      ],
      "text/plain": [
       "\u001b[2;36m[05/06/23 16:01:36]\u001b[0m\u001b[2;36m \u001b[0m\u001b[31mWARNING \u001b[0m \u001b[35m/Users/gurau/code/training/udacity_de/airport-data-project/venv/lib/py\u001b[0m \u001b]8;id=35586;file:///Users/gurau/.pyenv/versions/3.8.10/lib/python3.8/warnings.py\u001b\\\u001b[2mwarnings.py\u001b[0m\u001b]8;;\u001b\\\u001b[2m:\u001b[0m\u001b]8;id=649603;file:///Users/gurau/.pyenv/versions/3.8.10/lib/python3.8/warnings.py#109\u001b\\\u001b[2m109\u001b[0m\u001b]8;;\u001b\\\n",
       "\u001b[2;36m                    \u001b[0m         \u001b[35mthon3.8/site-packages/kedro/extras/extensions/\u001b[0m\u001b[95mipython.py\u001b[0m:\u001b[1;36m18\u001b[0m:           \u001b[2m               \u001b[0m\n",
       "\u001b[2;36m                    \u001b[0m         DeprecationWarning: kedro.extras.extensions.ipython should be accessed \u001b[2m               \u001b[0m\n",
       "\u001b[2;36m                    \u001b[0m         only using the alias kedro.ipython. The unaliased name will be removed \u001b[2m               \u001b[0m\n",
       "\u001b[2;36m                    \u001b[0m         in Kedro \u001b[1;36m0.19\u001b[0m.\u001b[1;36m0\u001b[0m.                                                       \u001b[2m               \u001b[0m\n",
       "\u001b[2;36m                    \u001b[0m           \u001b[1;35mwarnings.warn\u001b[0m\u001b[1m(\u001b[0m                                                       \u001b[2m               \u001b[0m\n",
       "\u001b[2;36m                    \u001b[0m                                                                                \u001b[2m               \u001b[0m\n"
      ]
     },
     "metadata": {},
     "output_type": "display_data"
    },
    {
     "data": {
      "text/html": [
       "<pre style=\"white-space:pre;overflow-x:auto;line-height:normal;font-family:Menlo,'DejaVu Sans Mono',consolas,'Courier New',monospace\"><span style=\"color: #7fbfbf; text-decoration-color: #7fbfbf\">                    </span><span style=\"color: #000080; text-decoration-color: #000080\">INFO    </span> Resolved project path as:                                              <a href=\"file:///Users/gurau/code/training/udacity_de/airport-data-project/venv/lib/python3.8/site-packages/kedro/ipython/__init__.py\" target=\"_blank\"><span style=\"color: #7f7f7f; text-decoration-color: #7f7f7f\">__init__.py</span></a><span style=\"color: #7f7f7f; text-decoration-color: #7f7f7f\">:</span><a href=\"file:///Users/gurau/code/training/udacity_de/airport-data-project/venv/lib/python3.8/site-packages/kedro/ipython/__init__.py#134\" target=\"_blank\"><span style=\"color: #7f7f7f; text-decoration-color: #7f7f7f\">134</span></a>\n",
       "<span style=\"color: #7fbfbf; text-decoration-color: #7fbfbf\">                    </span>         <span style=\"color: #800080; text-decoration-color: #800080\">/Users/gurau/code/training/udacity_de/airport-data-project/</span><span style=\"color: #ff00ff; text-decoration-color: #ff00ff\">udacity-de-</span> <span style=\"color: #7f7f7f; text-decoration-color: #7f7f7f\">               </span>\n",
       "<span style=\"color: #7fbfbf; text-decoration-color: #7fbfbf\">                    </span>         <span style=\"color: #ff00ff; text-decoration-color: #ff00ff\">capstone.</span>                                                              <span style=\"color: #7f7f7f; text-decoration-color: #7f7f7f\">               </span>\n",
       "<span style=\"color: #7fbfbf; text-decoration-color: #7fbfbf\">                    </span>         To set a different path, run <span style=\"color: #008000; text-decoration-color: #008000\">'%reload_kedro &lt;project_root&gt;'</span>            <span style=\"color: #7f7f7f; text-decoration-color: #7f7f7f\">               </span>\n",
       "</pre>\n"
      ],
      "text/plain": [
       "\u001b[2;36m                   \u001b[0m\u001b[2;36m \u001b[0m\u001b[34mINFO    \u001b[0m Resolved project path as:                                              \u001b]8;id=330486;file:///Users/gurau/code/training/udacity_de/airport-data-project/venv/lib/python3.8/site-packages/kedro/ipython/__init__.py\u001b\\\u001b[2m__init__.py\u001b[0m\u001b]8;;\u001b\\\u001b[2m:\u001b[0m\u001b]8;id=561542;file:///Users/gurau/code/training/udacity_de/airport-data-project/venv/lib/python3.8/site-packages/kedro/ipython/__init__.py#134\u001b\\\u001b[2m134\u001b[0m\u001b]8;;\u001b\\\n",
       "\u001b[2;36m                    \u001b[0m         \u001b[35m/Users/gurau/code/training/udacity_de/airport-data-project/\u001b[0m\u001b[95mudacity-de-\u001b[0m \u001b[2m               \u001b[0m\n",
       "\u001b[2;36m                    \u001b[0m         \u001b[95mcapstone.\u001b[0m                                                              \u001b[2m               \u001b[0m\n",
       "\u001b[2;36m                    \u001b[0m         To set a different path, run \u001b[32m'%reload_kedro \u001b[0m\u001b[32m<\u001b[0m\u001b[32mproject_root\u001b[0m\u001b[32m>\u001b[0m\u001b[32m'\u001b[0m            \u001b[2m               \u001b[0m\n"
      ]
     },
     "metadata": {},
     "output_type": "display_data"
    },
    {
     "data": {
      "text/html": [
       "<pre style=\"white-space:pre;overflow-x:auto;line-height:normal;font-family:Menlo,'DejaVu Sans Mono',consolas,'Courier New',monospace\"><span style=\"color: #7fbfbf; text-decoration-color: #7fbfbf\">[05/06/23 16:01:37] </span><span style=\"color: #000080; text-decoration-color: #000080\">INFO    </span> Kedro project udacity-de-capstone                                      <a href=\"file:///Users/gurau/code/training/udacity_de/airport-data-project/venv/lib/python3.8/site-packages/kedro/ipython/__init__.py\" target=\"_blank\"><span style=\"color: #7f7f7f; text-decoration-color: #7f7f7f\">__init__.py</span></a><span style=\"color: #7f7f7f; text-decoration-color: #7f7f7f\">:</span><a href=\"file:///Users/gurau/code/training/udacity_de/airport-data-project/venv/lib/python3.8/site-packages/kedro/ipython/__init__.py#103\" target=\"_blank\"><span style=\"color: #7f7f7f; text-decoration-color: #7f7f7f\">103</span></a>\n",
       "</pre>\n"
      ],
      "text/plain": [
       "\u001b[2;36m[05/06/23 16:01:37]\u001b[0m\u001b[2;36m \u001b[0m\u001b[34mINFO    \u001b[0m Kedro project udacity-de-capstone                                      \u001b]8;id=892494;file:///Users/gurau/code/training/udacity_de/airport-data-project/venv/lib/python3.8/site-packages/kedro/ipython/__init__.py\u001b\\\u001b[2m__init__.py\u001b[0m\u001b]8;;\u001b\\\u001b[2m:\u001b[0m\u001b]8;id=263078;file:///Users/gurau/code/training/udacity_de/airport-data-project/venv/lib/python3.8/site-packages/kedro/ipython/__init__.py#103\u001b\\\u001b[2m103\u001b[0m\u001b]8;;\u001b\\\n"
      ]
     },
     "metadata": {},
     "output_type": "display_data"
    },
    {
     "data": {
      "text/html": [
       "<pre style=\"white-space:pre;overflow-x:auto;line-height:normal;font-family:Menlo,'DejaVu Sans Mono',consolas,'Courier New',monospace\"><span style=\"color: #7fbfbf; text-decoration-color: #7fbfbf\">                    </span><span style=\"color: #000080; text-decoration-color: #000080\">INFO    </span> Defined global variable <span style=\"color: #008000; text-decoration-color: #008000\">'context'</span>, <span style=\"color: #008000; text-decoration-color: #008000\">'session'</span>, <span style=\"color: #008000; text-decoration-color: #008000\">'catalog'</span> and            <a href=\"file:///Users/gurau/code/training/udacity_de/airport-data-project/venv/lib/python3.8/site-packages/kedro/ipython/__init__.py\" target=\"_blank\"><span style=\"color: #7f7f7f; text-decoration-color: #7f7f7f\">__init__.py</span></a><span style=\"color: #7f7f7f; text-decoration-color: #7f7f7f\">:</span><a href=\"file:///Users/gurau/code/training/udacity_de/airport-data-project/venv/lib/python3.8/site-packages/kedro/ipython/__init__.py#104\" target=\"_blank\"><span style=\"color: #7f7f7f; text-decoration-color: #7f7f7f\">104</span></a>\n",
       "<span style=\"color: #7fbfbf; text-decoration-color: #7fbfbf\">                    </span>         <span style=\"color: #008000; text-decoration-color: #008000\">'pipelines'</span>                                                            <span style=\"color: #7f7f7f; text-decoration-color: #7f7f7f\">               </span>\n",
       "</pre>\n"
      ],
      "text/plain": [
       "\u001b[2;36m                   \u001b[0m\u001b[2;36m \u001b[0m\u001b[34mINFO    \u001b[0m Defined global variable \u001b[32m'context'\u001b[0m, \u001b[32m'session'\u001b[0m, \u001b[32m'catalog'\u001b[0m and            \u001b]8;id=96312;file:///Users/gurau/code/training/udacity_de/airport-data-project/venv/lib/python3.8/site-packages/kedro/ipython/__init__.py\u001b\\\u001b[2m__init__.py\u001b[0m\u001b]8;;\u001b\\\u001b[2m:\u001b[0m\u001b]8;id=117766;file:///Users/gurau/code/training/udacity_de/airport-data-project/venv/lib/python3.8/site-packages/kedro/ipython/__init__.py#104\u001b\\\u001b[2m104\u001b[0m\u001b]8;;\u001b\\\n",
       "\u001b[2;36m                    \u001b[0m         \u001b[32m'pipelines'\u001b[0m                                                            \u001b[2m               \u001b[0m\n"
      ]
     },
     "metadata": {},
     "output_type": "display_data"
    },
    {
     "data": {
      "text/html": [
       "<pre style=\"white-space:pre;overflow-x:auto;line-height:normal;font-family:Menlo,'DejaVu Sans Mono',consolas,'Courier New',monospace\"><span style=\"color: #7fbfbf; text-decoration-color: #7fbfbf\">                    </span><span style=\"color: #000080; text-decoration-color: #000080\">INFO    </span> Registered line magic <span style=\"color: #008000; text-decoration-color: #008000\">'run_viz'</span>                                        <a href=\"file:///Users/gurau/code/training/udacity_de/airport-data-project/venv/lib/python3.8/site-packages/kedro/ipython/__init__.py\" target=\"_blank\"><span style=\"color: #7f7f7f; text-decoration-color: #7f7f7f\">__init__.py</span></a><span style=\"color: #7f7f7f; text-decoration-color: #7f7f7f\">:</span><a href=\"file:///Users/gurau/code/training/udacity_de/airport-data-project/venv/lib/python3.8/site-packages/kedro/ipython/__init__.py#110\" target=\"_blank\"><span style=\"color: #7f7f7f; text-decoration-color: #7f7f7f\">110</span></a>\n",
       "</pre>\n"
      ],
      "text/plain": [
       "\u001b[2;36m                   \u001b[0m\u001b[2;36m \u001b[0m\u001b[34mINFO    \u001b[0m Registered line magic \u001b[32m'run_viz'\u001b[0m                                        \u001b]8;id=456560;file:///Users/gurau/code/training/udacity_de/airport-data-project/venv/lib/python3.8/site-packages/kedro/ipython/__init__.py\u001b\\\u001b[2m__init__.py\u001b[0m\u001b]8;;\u001b\\\u001b[2m:\u001b[0m\u001b]8;id=573332;file:///Users/gurau/code/training/udacity_de/airport-data-project/venv/lib/python3.8/site-packages/kedro/ipython/__init__.py#110\u001b\\\u001b[2m110\u001b[0m\u001b]8;;\u001b\\\n"
      ]
     },
     "metadata": {},
     "output_type": "display_data"
    },
    {
     "data": {
      "text/html": [
       "<pre style=\"white-space:pre;overflow-x:auto;line-height:normal;font-family:Menlo,'DejaVu Sans Mono',consolas,'Courier New',monospace\"><span style=\"color: #7fbfbf; text-decoration-color: #7fbfbf\">                    </span><span style=\"color: #800000; text-decoration-color: #800000\">WARNING </span> <span style=\"color: #800080; text-decoration-color: #800080\">/Users/gurau/code/training/udacity_de/airport-data-project/venv/lib/py</span> <a href=\"file:///Users/gurau/.pyenv/versions/3.8.10/lib/python3.8/warnings.py\" target=\"_blank\"><span style=\"color: #7f7f7f; text-decoration-color: #7f7f7f\">warnings.py</span></a><span style=\"color: #7f7f7f; text-decoration-color: #7f7f7f\">:</span><a href=\"file:///Users/gurau/.pyenv/versions/3.8.10/lib/python3.8/warnings.py#109\" target=\"_blank\"><span style=\"color: #7f7f7f; text-decoration-color: #7f7f7f\">109</span></a>\n",
       "<span style=\"color: #7fbfbf; text-decoration-color: #7fbfbf\">                    </span>         <span style=\"color: #800080; text-decoration-color: #800080\">thon3.8/site-packages/kedro/extras/extensions/</span><span style=\"color: #ff00ff; text-decoration-color: #ff00ff\">ipython.py</span>:<span style=\"color: #008080; text-decoration-color: #008080; font-weight: bold\">18</span>:           <span style=\"color: #7f7f7f; text-decoration-color: #7f7f7f\">               </span>\n",
       "<span style=\"color: #7fbfbf; text-decoration-color: #7fbfbf\">                    </span>         DeprecationWarning: kedro.extras.extensions.ipython should be accessed <span style=\"color: #7f7f7f; text-decoration-color: #7f7f7f\">               </span>\n",
       "<span style=\"color: #7fbfbf; text-decoration-color: #7fbfbf\">                    </span>         only using the alias kedro.ipython. The unaliased name will be removed <span style=\"color: #7f7f7f; text-decoration-color: #7f7f7f\">               </span>\n",
       "<span style=\"color: #7fbfbf; text-decoration-color: #7fbfbf\">                    </span>         in Kedro <span style=\"color: #008080; text-decoration-color: #008080; font-weight: bold\">0.19</span>.<span style=\"color: #008080; text-decoration-color: #008080; font-weight: bold\">0</span>.                                                       <span style=\"color: #7f7f7f; text-decoration-color: #7f7f7f\">               </span>\n",
       "<span style=\"color: #7fbfbf; text-decoration-color: #7fbfbf\">                    </span>           <span style=\"color: #800080; text-decoration-color: #800080; font-weight: bold\">warnings.warn</span><span style=\"font-weight: bold\">(</span>                                                       <span style=\"color: #7f7f7f; text-decoration-color: #7f7f7f\">               </span>\n",
       "<span style=\"color: #7fbfbf; text-decoration-color: #7fbfbf\">                    </span>                                                                                <span style=\"color: #7f7f7f; text-decoration-color: #7f7f7f\">               </span>\n",
       "</pre>\n"
      ],
      "text/plain": [
       "\u001b[2;36m                   \u001b[0m\u001b[2;36m \u001b[0m\u001b[31mWARNING \u001b[0m \u001b[35m/Users/gurau/code/training/udacity_de/airport-data-project/venv/lib/py\u001b[0m \u001b]8;id=984193;file:///Users/gurau/.pyenv/versions/3.8.10/lib/python3.8/warnings.py\u001b\\\u001b[2mwarnings.py\u001b[0m\u001b]8;;\u001b\\\u001b[2m:\u001b[0m\u001b]8;id=995366;file:///Users/gurau/.pyenv/versions/3.8.10/lib/python3.8/warnings.py#109\u001b\\\u001b[2m109\u001b[0m\u001b]8;;\u001b\\\n",
       "\u001b[2;36m                    \u001b[0m         \u001b[35mthon3.8/site-packages/kedro/extras/extensions/\u001b[0m\u001b[95mipython.py\u001b[0m:\u001b[1;36m18\u001b[0m:           \u001b[2m               \u001b[0m\n",
       "\u001b[2;36m                    \u001b[0m         DeprecationWarning: kedro.extras.extensions.ipython should be accessed \u001b[2m               \u001b[0m\n",
       "\u001b[2;36m                    \u001b[0m         only using the alias kedro.ipython. The unaliased name will be removed \u001b[2m               \u001b[0m\n",
       "\u001b[2;36m                    \u001b[0m         in Kedro \u001b[1;36m0.19\u001b[0m.\u001b[1;36m0\u001b[0m.                                                       \u001b[2m               \u001b[0m\n",
       "\u001b[2;36m                    \u001b[0m           \u001b[1;35mwarnings.warn\u001b[0m\u001b[1m(\u001b[0m                                                       \u001b[2m               \u001b[0m\n",
       "\u001b[2;36m                    \u001b[0m                                                                                \u001b[2m               \u001b[0m\n"
      ]
     },
     "metadata": {},
     "output_type": "display_data"
    },
    {
     "data": {
      "text/html": [
       "<pre style=\"white-space:pre;overflow-x:auto;line-height:normal;font-family:Menlo,'DejaVu Sans Mono',consolas,'Courier New',monospace\"><span style=\"color: #7fbfbf; text-decoration-color: #7fbfbf\">                    </span><span style=\"color: #000080; text-decoration-color: #000080\">INFO    </span> Resolved project path as:                                              <a href=\"file:///Users/gurau/code/training/udacity_de/airport-data-project/venv/lib/python3.8/site-packages/kedro/ipython/__init__.py\" target=\"_blank\"><span style=\"color: #7f7f7f; text-decoration-color: #7f7f7f\">__init__.py</span></a><span style=\"color: #7f7f7f; text-decoration-color: #7f7f7f\">:</span><a href=\"file:///Users/gurau/code/training/udacity_de/airport-data-project/venv/lib/python3.8/site-packages/kedro/ipython/__init__.py#134\" target=\"_blank\"><span style=\"color: #7f7f7f; text-decoration-color: #7f7f7f\">134</span></a>\n",
       "<span style=\"color: #7fbfbf; text-decoration-color: #7fbfbf\">                    </span>         <span style=\"color: #800080; text-decoration-color: #800080\">/Users/gurau/code/training/udacity_de/airport-data-project/</span><span style=\"color: #ff00ff; text-decoration-color: #ff00ff\">udacity-de-</span> <span style=\"color: #7f7f7f; text-decoration-color: #7f7f7f\">               </span>\n",
       "<span style=\"color: #7fbfbf; text-decoration-color: #7fbfbf\">                    </span>         <span style=\"color: #ff00ff; text-decoration-color: #ff00ff\">capstone.</span>                                                              <span style=\"color: #7f7f7f; text-decoration-color: #7f7f7f\">               </span>\n",
       "<span style=\"color: #7fbfbf; text-decoration-color: #7fbfbf\">                    </span>         To set a different path, run <span style=\"color: #008000; text-decoration-color: #008000\">'%reload_kedro &lt;project_root&gt;'</span>            <span style=\"color: #7f7f7f; text-decoration-color: #7f7f7f\">               </span>\n",
       "</pre>\n"
      ],
      "text/plain": [
       "\u001b[2;36m                   \u001b[0m\u001b[2;36m \u001b[0m\u001b[34mINFO    \u001b[0m Resolved project path as:                                              \u001b]8;id=659479;file:///Users/gurau/code/training/udacity_de/airport-data-project/venv/lib/python3.8/site-packages/kedro/ipython/__init__.py\u001b\\\u001b[2m__init__.py\u001b[0m\u001b]8;;\u001b\\\u001b[2m:\u001b[0m\u001b]8;id=990489;file:///Users/gurau/code/training/udacity_de/airport-data-project/venv/lib/python3.8/site-packages/kedro/ipython/__init__.py#134\u001b\\\u001b[2m134\u001b[0m\u001b]8;;\u001b\\\n",
       "\u001b[2;36m                    \u001b[0m         \u001b[35m/Users/gurau/code/training/udacity_de/airport-data-project/\u001b[0m\u001b[95mudacity-de-\u001b[0m \u001b[2m               \u001b[0m\n",
       "\u001b[2;36m                    \u001b[0m         \u001b[95mcapstone.\u001b[0m                                                              \u001b[2m               \u001b[0m\n",
       "\u001b[2;36m                    \u001b[0m         To set a different path, run \u001b[32m'%reload_kedro \u001b[0m\u001b[32m<\u001b[0m\u001b[32mproject_root\u001b[0m\u001b[32m>\u001b[0m\u001b[32m'\u001b[0m            \u001b[2m               \u001b[0m\n"
      ]
     },
     "metadata": {},
     "output_type": "display_data"
    },
    {
     "data": {
      "text/html": [
       "<pre style=\"white-space:pre;overflow-x:auto;line-height:normal;font-family:Menlo,'DejaVu Sans Mono',consolas,'Courier New',monospace\"><span style=\"color: #7fbfbf; text-decoration-color: #7fbfbf\">[05/06/23 16:01:37] </span><span style=\"color: #000080; text-decoration-color: #000080\">INFO    </span> Kedro project udacity-de-capstone                                      <a href=\"file:///Users/gurau/code/training/udacity_de/airport-data-project/venv/lib/python3.8/site-packages/kedro/ipython/__init__.py\" target=\"_blank\"><span style=\"color: #7f7f7f; text-decoration-color: #7f7f7f\">__init__.py</span></a><span style=\"color: #7f7f7f; text-decoration-color: #7f7f7f\">:</span><a href=\"file:///Users/gurau/code/training/udacity_de/airport-data-project/venv/lib/python3.8/site-packages/kedro/ipython/__init__.py#103\" target=\"_blank\"><span style=\"color: #7f7f7f; text-decoration-color: #7f7f7f\">103</span></a>\n",
       "</pre>\n"
      ],
      "text/plain": [
       "\u001b[2;36m[05/06/23 16:01:37]\u001b[0m\u001b[2;36m \u001b[0m\u001b[34mINFO    \u001b[0m Kedro project udacity-de-capstone                                      \u001b]8;id=492309;file:///Users/gurau/code/training/udacity_de/airport-data-project/venv/lib/python3.8/site-packages/kedro/ipython/__init__.py\u001b\\\u001b[2m__init__.py\u001b[0m\u001b]8;;\u001b\\\u001b[2m:\u001b[0m\u001b]8;id=309987;file:///Users/gurau/code/training/udacity_de/airport-data-project/venv/lib/python3.8/site-packages/kedro/ipython/__init__.py#103\u001b\\\u001b[2m103\u001b[0m\u001b]8;;\u001b\\\n"
      ]
     },
     "metadata": {},
     "output_type": "display_data"
    },
    {
     "data": {
      "text/html": [
       "<pre style=\"white-space:pre;overflow-x:auto;line-height:normal;font-family:Menlo,'DejaVu Sans Mono',consolas,'Courier New',monospace\"><span style=\"color: #7fbfbf; text-decoration-color: #7fbfbf\">                    </span><span style=\"color: #000080; text-decoration-color: #000080\">INFO    </span> Defined global variable <span style=\"color: #008000; text-decoration-color: #008000\">'context'</span>, <span style=\"color: #008000; text-decoration-color: #008000\">'session'</span>, <span style=\"color: #008000; text-decoration-color: #008000\">'catalog'</span> and            <a href=\"file:///Users/gurau/code/training/udacity_de/airport-data-project/venv/lib/python3.8/site-packages/kedro/ipython/__init__.py\" target=\"_blank\"><span style=\"color: #7f7f7f; text-decoration-color: #7f7f7f\">__init__.py</span></a><span style=\"color: #7f7f7f; text-decoration-color: #7f7f7f\">:</span><a href=\"file:///Users/gurau/code/training/udacity_de/airport-data-project/venv/lib/python3.8/site-packages/kedro/ipython/__init__.py#104\" target=\"_blank\"><span style=\"color: #7f7f7f; text-decoration-color: #7f7f7f\">104</span></a>\n",
       "<span style=\"color: #7fbfbf; text-decoration-color: #7fbfbf\">                    </span>         <span style=\"color: #008000; text-decoration-color: #008000\">'pipelines'</span>                                                            <span style=\"color: #7f7f7f; text-decoration-color: #7f7f7f\">               </span>\n",
       "</pre>\n"
      ],
      "text/plain": [
       "\u001b[2;36m                   \u001b[0m\u001b[2;36m \u001b[0m\u001b[34mINFO    \u001b[0m Defined global variable \u001b[32m'context'\u001b[0m, \u001b[32m'session'\u001b[0m, \u001b[32m'catalog'\u001b[0m and            \u001b]8;id=548657;file:///Users/gurau/code/training/udacity_de/airport-data-project/venv/lib/python3.8/site-packages/kedro/ipython/__init__.py\u001b\\\u001b[2m__init__.py\u001b[0m\u001b]8;;\u001b\\\u001b[2m:\u001b[0m\u001b]8;id=276104;file:///Users/gurau/code/training/udacity_de/airport-data-project/venv/lib/python3.8/site-packages/kedro/ipython/__init__.py#104\u001b\\\u001b[2m104\u001b[0m\u001b]8;;\u001b\\\n",
       "\u001b[2;36m                    \u001b[0m         \u001b[32m'pipelines'\u001b[0m                                                            \u001b[2m               \u001b[0m\n"
      ]
     },
     "metadata": {},
     "output_type": "display_data"
    },
    {
     "data": {
      "text/html": [
       "<pre style=\"white-space:pre;overflow-x:auto;line-height:normal;font-family:Menlo,'DejaVu Sans Mono',consolas,'Courier New',monospace\"><span style=\"color: #7fbfbf; text-decoration-color: #7fbfbf\">                    </span><span style=\"color: #000080; text-decoration-color: #000080\">INFO    </span> Registered line magic <span style=\"color: #008000; text-decoration-color: #008000\">'run_viz'</span>                                        <a href=\"file:///Users/gurau/code/training/udacity_de/airport-data-project/venv/lib/python3.8/site-packages/kedro/ipython/__init__.py\" target=\"_blank\"><span style=\"color: #7f7f7f; text-decoration-color: #7f7f7f\">__init__.py</span></a><span style=\"color: #7f7f7f; text-decoration-color: #7f7f7f\">:</span><a href=\"file:///Users/gurau/code/training/udacity_de/airport-data-project/venv/lib/python3.8/site-packages/kedro/ipython/__init__.py#110\" target=\"_blank\"><span style=\"color: #7f7f7f; text-decoration-color: #7f7f7f\">110</span></a>\n",
       "</pre>\n"
      ],
      "text/plain": [
       "\u001b[2;36m                   \u001b[0m\u001b[2;36m \u001b[0m\u001b[34mINFO    \u001b[0m Registered line magic \u001b[32m'run_viz'\u001b[0m                                        \u001b]8;id=521932;file:///Users/gurau/code/training/udacity_de/airport-data-project/venv/lib/python3.8/site-packages/kedro/ipython/__init__.py\u001b\\\u001b[2m__init__.py\u001b[0m\u001b]8;;\u001b\\\u001b[2m:\u001b[0m\u001b]8;id=541609;file:///Users/gurau/code/training/udacity_de/airport-data-project/venv/lib/python3.8/site-packages/kedro/ipython/__init__.py#110\u001b\\\u001b[2m110\u001b[0m\u001b]8;;\u001b\\\n"
      ]
     },
     "metadata": {},
     "output_type": "display_data"
    }
   ],
   "source": [
    "# https://docs.kedro.org/en/0.18.1/tools_integration/ipython.html\n",
    "%load_ext kedro.extras.extensions.ipython\n",
    "%reload_ext kedro.extras.extensions.ipython"
   ]
  },
  {
   "cell_type": "code",
   "execution_count": 2,
   "id": "c16c6770",
   "metadata": {},
   "outputs": [
    {
     "data": {
      "text/plain": [
       "polars.config.Config"
      ]
     },
     "execution_count": 2,
     "metadata": {},
     "output_type": "execute_result"
    }
   ],
   "source": [
    "import polars as pl\n",
    "import requests\n",
    "\n",
    "from typing import List\n",
    "\n",
    "pl.Config.set_tbl_rows(40)\n",
    "pl.Config.set_fmt_str_lengths(100)\n"
   ]
  },
  {
   "cell_type": "code",
   "execution_count": 151,
   "id": "267f8d33",
   "metadata": {},
   "outputs": [],
   "source": [
    "def format_column_names(cols: List[str]) -> List[str]:\n",
    "    \"\"\"Utility for formatting column names\"\"\"\n",
    "    return list(map(lambda x: x.strip().lower().replace(\" \", \"_\"), cols))\n"
   ]
  },
  {
   "cell_type": "code",
   "execution_count": 79,
   "id": "ecb23a34",
   "metadata": {},
   "outputs": [
    {
     "data": {
      "text/html": [
       "<pre style=\"white-space:pre;overflow-x:auto;line-height:normal;font-family:Menlo,'DejaVu Sans Mono',consolas,'Courier New',monospace\"><span style=\"color: #7fbfbf; text-decoration-color: #7fbfbf\">[05/06/23 10:00:28] </span><span style=\"color: #000080; text-decoration-color: #000080\">INFO    </span> Loading data from <span style=\"color: #008000; text-decoration-color: #008000\">'airports'</span> <span style=\"font-weight: bold\">(</span>CSVDataSet<span style=\"font-weight: bold\">)</span><span style=\"color: #808000; text-decoration-color: #808000\">...</span>                       <a href=\"file:///Users/gurau/code/training/udacity_de/airport-data-project/venv/lib/python3.8/site-packages/kedro/io/data_catalog.py\" target=\"_blank\"><span style=\"color: #7f7f7f; text-decoration-color: #7f7f7f\">data_catalog.py</span></a><span style=\"color: #7f7f7f; text-decoration-color: #7f7f7f\">:</span><a href=\"file:///Users/gurau/code/training/udacity_de/airport-data-project/venv/lib/python3.8/site-packages/kedro/io/data_catalog.py#343\" target=\"_blank\"><span style=\"color: #7f7f7f; text-decoration-color: #7f7f7f\">343</span></a>\n",
       "</pre>\n"
      ],
      "text/plain": [
       "\u001b[2;36m[05/06/23 10:00:28]\u001b[0m\u001b[2;36m \u001b[0m\u001b[34mINFO    \u001b[0m Loading data from \u001b[32m'airports'\u001b[0m \u001b[1m(\u001b[0mCSVDataSet\u001b[1m)\u001b[0m\u001b[33m...\u001b[0m                       \u001b]8;id=215824;file:///Users/gurau/code/training/udacity_de/airport-data-project/venv/lib/python3.8/site-packages/kedro/io/data_catalog.py\u001b\\\u001b[2mdata_catalog.py\u001b[0m\u001b]8;;\u001b\\\u001b[2m:\u001b[0m\u001b]8;id=333860;file:///Users/gurau/code/training/udacity_de/airport-data-project/venv/lib/python3.8/site-packages/kedro/io/data_catalog.py#343\u001b\\\u001b[2m343\u001b[0m\u001b]8;;\u001b\\\n"
      ]
     },
     "metadata": {},
     "output_type": "display_data"
    },
    {
     "name": "stdout",
     "output_type": "stream",
     "text": [
      "Raw airports dataset size: 62.38 KB\n"
     ]
    },
    {
     "data": {
      "text/html": [
       "<div><style>\n",
       ".dataframe > thead > tr > th,\n",
       ".dataframe > tbody > tr > td {\n",
       "  text-align: right;\n",
       "}\n",
       "</style>\n",
       "<small>shape: (5, 13)</small><table border=\"1\" class=\"dataframe\"><thead><tr><th>AIRPORT_ID</th><th>AIRPORT</th><th>DISPLAY_AIRPORT_NAME</th><th>DISPLAY_AIRPORT_CITY_NAME_FULL</th><th>AIRPORT_STATE_NAME</th><th>AIRPORT_STATE_CODE</th><th>LATITUDE</th><th>LONGITUDE</th><th>ELEVATION</th><th>ICAO</th><th>IATA</th><th>FAA</th><th>MESONET_STATION</th></tr><tr><td>i64</td><td>str</td><td>str</td><td>str</td><td>str</td><td>str</td><td>f64</td><td>f64</td><td>i64</td><td>str</td><td>str</td><td>str</td><td>str</td></tr></thead><tbody><tr><td>14256</td><td>&quot;PSG&quot;</td><td>&quot;Petersburg Jam…</td><td>&quot;Petersburg, AK…</td><td>&quot;Alaska&quot;</td><td>&quot;AK&quot;</td><td>56.801388</td><td>-132.9461</td><td>111</td><td>&quot;PAPG&quot;</td><td>&quot;PSG&quot;</td><td>&quot;PSG&quot;</td><td>&quot;PAPG&quot;</td></tr><tr><td>10299</td><td>&quot;ANC&quot;</td><td>&quot;Ted Stevens An…</td><td>&quot;Anchorage, AK&quot;</td><td>&quot;Alaska&quot;</td><td>&quot;AK&quot;</td><td>61.174168</td><td>-149.99806</td><td>152</td><td>&quot;PANC&quot;</td><td>&quot;ANC&quot;</td><td>&quot;ANC&quot;</td><td>&quot;PANC&quot;</td></tr><tr><td>12819</td><td>&quot;KTN&quot;</td><td>&quot;Ketchikan Inte…</td><td>&quot;Ketchikan, AK&quot;</td><td>&quot;Alaska&quot;</td><td>&quot;AK&quot;</td><td>55.354168</td><td>-131.7111</td><td>89</td><td>&quot;PAKT&quot;</td><td>&quot;KTN&quot;</td><td>&quot;KTN&quot;</td><td>&quot;PAKT&quot;</td></tr><tr><td>13873</td><td>&quot;OME&quot;</td><td>&quot;Nome Airport&quot;</td><td>&quot;Nome, AK&quot;</td><td>&quot;Alaska&quot;</td><td>&quot;AK&quot;</td><td>64.51056</td><td>-165.44472</td><td>37</td><td>&quot;PAOM&quot;</td><td>&quot;OME&quot;</td><td>&quot;OME&quot;</td><td>&quot;PAOM&quot;</td></tr><tr><td>10551</td><td>&quot;BET&quot;</td><td>&quot;Bethel Airport…</td><td>&quot;Bethel, AK&quot;</td><td>&quot;Alaska&quot;</td><td>&quot;AK&quot;</td><td>60.77861</td><td>-161.83722</td><td>126</td><td>&quot;PABE&quot;</td><td>&quot;BET&quot;</td><td>&quot;BET&quot;</td><td>&quot;PABE&quot;</td></tr></tbody></table></div>"
      ],
      "text/plain": [
       "shape: (5, 13)\n",
       "┌────────────┬─────────┬─────────────────┬────────────────┬───┬──────┬──────┬─────┬────────────────┐\n",
       "│ AIRPORT_ID ┆ AIRPORT ┆ DISPLAY_AIRPORT ┆ DISPLAY_AIRPOR ┆ … ┆ ICAO ┆ IATA ┆ FAA ┆ MESONET_STATIO │\n",
       "│ ---        ┆ ---     ┆ _NAME           ┆ T_CITY_NAME_FU ┆   ┆ ---  ┆ ---  ┆ --- ┆ N              │\n",
       "│ i64        ┆ str     ┆ ---             ┆ LL             ┆   ┆ str  ┆ str  ┆ str ┆ ---            │\n",
       "│            ┆         ┆ str             ┆ ---            ┆   ┆      ┆      ┆     ┆ str            │\n",
       "│            ┆         ┆                 ┆ str            ┆   ┆      ┆      ┆     ┆                │\n",
       "╞════════════╪═════════╪═════════════════╪════════════════╪═══╪══════╪══════╪═════╪════════════════╡\n",
       "│ 14256      ┆ PSG     ┆ Petersburg      ┆ Petersburg, AK ┆ … ┆ PAPG ┆ PSG  ┆ PSG ┆ PAPG           │\n",
       "│            ┆         ┆ James A Johnson ┆                ┆   ┆      ┆      ┆     ┆                │\n",
       "│ 10299      ┆ ANC     ┆ Ted Stevens     ┆ Anchorage, AK  ┆ … ┆ PANC ┆ ANC  ┆ ANC ┆ PANC           │\n",
       "│            ┆         ┆ Anchorage       ┆                ┆   ┆      ┆      ┆     ┆                │\n",
       "│            ┆         ┆ Internatio…     ┆                ┆   ┆      ┆      ┆     ┆                │\n",
       "│ 12819      ┆ KTN     ┆ Ketchikan       ┆ Ketchikan, AK  ┆ … ┆ PAKT ┆ KTN  ┆ KTN ┆ PAKT           │\n",
       "│            ┆         ┆ International   ┆                ┆   ┆      ┆      ┆     ┆                │\n",
       "│ 13873      ┆ OME     ┆ Nome Airport    ┆ Nome, AK       ┆ … ┆ PAOM ┆ OME  ┆ OME ┆ PAOM           │\n",
       "│ 10551      ┆ BET     ┆ Bethel Airport  ┆ Bethel, AK     ┆ … ┆ PABE ┆ BET  ┆ BET ┆ PABE           │\n",
       "└────────────┴─────────┴─────────────────┴────────────────┴───┴──────┴──────┴─────┴────────────────┘"
      ]
     },
     "execution_count": 79,
     "metadata": {},
     "output_type": "execute_result"
    }
   ],
   "source": [
    "# load airport data as a polars df\n",
    "airports: pl.DataFrame = catalog.load(\"airports\")\n",
    "print(f\"Raw airports dataset size: {airports.estimated_size(unit='kb'):.2f} KB\")\n",
    "airports.head()\n"
   ]
  },
  {
   "cell_type": "code",
   "execution_count": 133,
   "id": "1bea9392",
   "metadata": {},
   "outputs": [
    {
     "name": "stdout",
     "output_type": "stream",
     "text": [
      "All DQ checks on airports data passed!\n"
     ]
    }
   ],
   "source": [
    "def transform_airports(raw_airports: pl.DataFrame) -> pl.DataFrame:\n",
    "    \"\"\"Basic transformation of airport data\"\"\"\n",
    "    df = raw_airports.drop(\n",
    "        \"DISPLAY_AIRPORT_CITY_NAME_FULL\",\n",
    "        \"AIRPORT_STATE_NAME\",\n",
    "        \"FAA\",\n",
    "    )\n",
    "    df.columns = format_column_names(df.columns)\n",
    "    return df\n",
    "\n",
    "\n",
    "def dq_airports(airports: pl.DataFrame) -> None:\n",
    "    \"\"\"Data quality checks for airport data\"\"\"\n",
    "\n",
    "    # check that we have at least one value\n",
    "    if airports.is_empty():\n",
    "        raise ValueError(\"Empty airports dataframe!\")\n",
    "\n",
    "    # check for any null values\n",
    "    null_counts = airports.null_count()\n",
    "    if sum(null_counts.row(0)) != 0:\n",
    "        print(null_counts.transpose(include_header=True, column_names=[\"null_count\"]))\n",
    "        raise ValueError(\n",
    "            \"Detected null values. See their occurence per column before this raised error message\"\n",
    "        )\n",
    "\n",
    "    # check for valid latitudes\n",
    "    if not airports[\"latitude\"].is_between(-90, 90).all():\n",
    "        raise ValueError(\"Latitutes outside [-90, 90] degrees range found!\")\n",
    "\n",
    "    # check for valid longitudes\n",
    "    if not airports[\"longitude\"].is_between(-180, 180).all():\n",
    "        raise ValueError(\"Longitudes outside [-180, 180] degrees range found!\")\n",
    "    \n",
    "    # check that we don't have any duplicates\n",
    "    if airports.is_duplicated().any():\n",
    "        raise ValueError(\"Duplicate airport entries found!\")\n",
    "\n",
    "    print(\"All DQ checks on airports data passed!\")\n",
    "\n",
    "\n",
    "transformed_airports = transform_airports(airports)\n",
    "dq_airports(transformed_airports)\n"
   ]
  },
  {
   "cell_type": "code",
   "execution_count": 109,
   "id": "35f0dcba",
   "metadata": {},
   "outputs": [
    {
     "data": {
      "text/html": [
       "<pre style=\"white-space:pre;overflow-x:auto;line-height:normal;font-family:Menlo,'DejaVu Sans Mono',consolas,'Courier New',monospace\"><span style=\"color: #7fbfbf; text-decoration-color: #7fbfbf\">[05/06/23 10:24:58] </span><span style=\"color: #000080; text-decoration-color: #000080\">INFO    </span> Loading data from <span style=\"color: #008000; text-decoration-color: #008000\">'flights'</span> <span style=\"font-weight: bold\">(</span>CSVDataSet<span style=\"font-weight: bold\">)</span><span style=\"color: #808000; text-decoration-color: #808000\">...</span>                        <a href=\"file:///Users/gurau/code/training/udacity_de/airport-data-project/venv/lib/python3.8/site-packages/kedro/io/data_catalog.py\" target=\"_blank\"><span style=\"color: #7f7f7f; text-decoration-color: #7f7f7f\">data_catalog.py</span></a><span style=\"color: #7f7f7f; text-decoration-color: #7f7f7f\">:</span><a href=\"file:///Users/gurau/code/training/udacity_de/airport-data-project/venv/lib/python3.8/site-packages/kedro/io/data_catalog.py#343\" target=\"_blank\"><span style=\"color: #7f7f7f; text-decoration-color: #7f7f7f\">343</span></a>\n",
       "</pre>\n"
      ],
      "text/plain": [
       "\u001b[2;36m[05/06/23 10:24:58]\u001b[0m\u001b[2;36m \u001b[0m\u001b[34mINFO    \u001b[0m Loading data from \u001b[32m'flights'\u001b[0m \u001b[1m(\u001b[0mCSVDataSet\u001b[1m)\u001b[0m\u001b[33m...\u001b[0m                        \u001b]8;id=961235;file:///Users/gurau/code/training/udacity_de/airport-data-project/venv/lib/python3.8/site-packages/kedro/io/data_catalog.py\u001b\\\u001b[2mdata_catalog.py\u001b[0m\u001b]8;;\u001b\\\u001b[2m:\u001b[0m\u001b]8;id=321892;file:///Users/gurau/code/training/udacity_de/airport-data-project/venv/lib/python3.8/site-packages/kedro/io/data_catalog.py#343\u001b\\\u001b[2m343\u001b[0m\u001b]8;;\u001b\\\n"
      ]
     },
     "metadata": {},
     "output_type": "display_data"
    },
    {
     "name": "stdout",
     "output_type": "stream",
     "text": [
      "Raw flights dataset size: 2.74 GB\n",
      "Record count: (6954636, 40)\n"
     ]
    },
    {
     "data": {
      "text/html": [
       "<div><style>\n",
       ".dataframe > thead > tr > th,\n",
       ".dataframe > tbody > tr > td {\n",
       "  text-align: right;\n",
       "}\n",
       "</style>\n",
       "<small>shape: (5, 40)</small><table border=\"1\" class=\"dataframe\"><thead><tr><th>FL_DATE</th><th>DEP_HOUR</th><th>MKT_UNIQUE_CARRIER</th><th>MKT_CARRIER_FL_NUM</th><th>OP_UNIQUE_CARRIER</th><th>OP_CARRIER_FL_NUM</th><th>TAIL_NUM</th><th>ORIGIN</th><th>DEST</th><th>DEP_TIME</th><th>CRS_DEP_TIME</th><th>TAXI_OUT</th><th>DEP_DELAY</th><th>AIR_TIME</th><th>DISTANCE</th><th>CANCELLED</th><th>LATITUDE</th><th>LONGITUDE</th><th>ELEVATION</th><th>MESONET_STATION</th><th>YEAR OF MANUFACTURE</th><th>MANUFACTURER</th><th>ICAO TYPE</th><th>RANGE</th><th>WIDTH</th><th>WIND_DIR</th><th>WIND_SPD</th><th>WIND_GUST</th><th>VISIBILITY</th><th>TEMPERATURE</th><th>DEW_POINT</th><th>REL_HUMIDITY</th><th>ALTIMETER</th><th>LOWEST_CLOUD_LAYER</th><th>N_CLOUD_LAYER</th><th>LOW_LEVEL_CLOUD</th><th>MID_LEVEL_CLOUD</th><th>HIGH_LEVEL_CLOUD</th><th>CLOUD_COVER</th><th>ACTIVE_WEATHER</th></tr><tr><td>str</td><td>i64</td><td>str</td><td>i64</td><td>str</td><td>i64</td><td>str</td><td>str</td><td>str</td><td>str</td><td>str</td><td>i64</td><td>i64</td><td>i64</td><td>i64</td><td>i64</td><td>f64</td><td>f64</td><td>i64</td><td>str</td><td>i64</td><td>str</td><td>str</td><td>str</td><td>str</td><td>f64</td><td>f64</td><td>f64</td><td>f64</td><td>f64</td><td>f64</td><td>f64</td><td>f64</td><td>f64</td><td>f64</td><td>f64</td><td>f64</td><td>f64</td><td>f64</td><td>f64</td></tr></thead><tbody><tr><td>&quot;2022-01-01&quot;</td><td>6</td><td>&quot;AA&quot;</td><td>1</td><td>&quot;AA&quot;</td><td>1</td><td>&quot;N106NN&quot;</td><td>&quot;JFK&quot;</td><td>&quot;LAX&quot;</td><td>&quot;2022-01-01 06:…</td><td>&quot;2022-01-01 07:…</td><td>19</td><td>-3</td><td>347</td><td>2475</td><td>0</td><td>40.64</td><td>-73.77861</td><td>13</td><td>&quot;JFK&quot;</td><td>2014</td><td>&quot;Airbus&quot;</td><td>&quot;A321&quot;</td><td>&quot;Medium Range&quot;</td><td>&quot;Narrow-body&quot;</td><td>180.0</td><td>7.0</td><td>0.0</td><td>8.0</td><td>9.39</td><td>8.89</td><td>96.69</td><td>29.92</td><td>300.0</td><td>2.0</td><td>1.0</td><td>0.0</td><td>0.0</td><td>4.0</td><td>0.0</td></tr><tr><td>&quot;2022-01-01&quot;</td><td>8</td><td>&quot;AA&quot;</td><td>10</td><td>&quot;AA&quot;</td><td>10</td><td>&quot;N101NN&quot;</td><td>&quot;LAX&quot;</td><td>&quot;JFK&quot;</td><td>&quot;2022-01-01 08:…</td><td>&quot;2022-01-01 09:…</td><td>20</td><td>-3</td><td>270</td><td>2475</td><td>0</td><td>33.9425</td><td>-118.40806</td><td>125</td><td>&quot;LAX&quot;</td><td>2013</td><td>&quot;Airbus&quot;</td><td>&quot;A321&quot;</td><td>&quot;Medium Range&quot;</td><td>&quot;Narrow-body&quot;</td><td>20.0</td><td>6.0</td><td>0.0</td><td>10.0</td><td>12.22</td><td>0.61</td><td>44.92</td><td>29.87</td><td>4800.0</td><td>1.0</td><td>1.0</td><td>0.0</td><td>0.0</td><td>2.0</td><td>0.0</td></tr><tr><td>&quot;2022-01-01&quot;</td><td>0</td><td>&quot;AA&quot;</td><td>1003</td><td>&quot;AA&quot;</td><td>1003</td><td>&quot;N830NN&quot;</td><td>&quot;STL&quot;</td><td>&quot;ORD&quot;</td><td>&quot;2022-01-01 00:…</td><td>&quot;2022-01-01 07:…</td><td>0</td><td>0</td><td>0</td><td>258</td><td>2</td><td>38.74861</td><td>-90.37</td><td>618</td><td>&quot;STL&quot;</td><td>2010</td><td>&quot;Boeing&quot;</td><td>&quot;B738&quot;</td><td>&quot;Medium Range&quot;</td><td>&quot;Narrow-body&quot;</td><td>null</td><td>null</td><td>null</td><td>null</td><td>null</td><td>null</td><td>null</td><td>null</td><td>null</td><td>null</td><td>null</td><td>null</td><td>null</td><td>null</td><td>null</td></tr><tr><td>&quot;2022-01-01&quot;</td><td>9</td><td>&quot;AA&quot;</td><td>1004</td><td>&quot;AA&quot;</td><td>1004</td><td>&quot;N805NN&quot;</td><td>&quot;ORD&quot;</td><td>&quot;FLL&quot;</td><td>&quot;2022-01-01 09:…</td><td>&quot;2022-01-01 18:…</td><td>23</td><td>907</td><td>166</td><td>1182</td><td>0</td><td>41.976944</td><td>-87.90806</td><td>672</td><td>&quot;ORD&quot;</td><td>2009</td><td>&quot;Boeing&quot;</td><td>&quot;B738&quot;</td><td>&quot;Medium Range&quot;</td><td>&quot;Narrow-body&quot;</td><td>360.0</td><td>9.0</td><td>0.0</td><td>5.0</td><td>2.22</td><td>0.61</td><td>89.09</td><td>29.75</td><td>500.0</td><td>1.0</td><td>1.0</td><td>0.0</td><td>0.0</td><td>4.0</td><td>1.0</td></tr><tr><td>&quot;2022-01-01&quot;</td><td>23</td><td>&quot;AA&quot;</td><td>1007</td><td>&quot;AA&quot;</td><td>1007</td><td>&quot;N870NN&quot;</td><td>&quot;CLT&quot;</td><td>&quot;STL&quot;</td><td>&quot;2022-01-01 23:…</td><td>&quot;2022-01-01 22:…</td><td>16</td><td>20</td><td>104</td><td>575</td><td>0</td><td>35.21361</td><td>-80.949165</td><td>748</td><td>&quot;CLT&quot;</td><td>2011</td><td>&quot;Boeing&quot;</td><td>&quot;B738&quot;</td><td>&quot;Medium Range&quot;</td><td>&quot;Narrow-body&quot;</td><td>220.0</td><td>8.0</td><td>0.0</td><td>10.0</td><td>20.0</td><td>18.28</td><td>89.81</td><td>29.79</td><td>1500.0</td><td>3.0</td><td>1.0</td><td>0.0</td><td>1.0</td><td>3.0</td><td>0.0</td></tr></tbody></table></div>"
      ],
      "text/plain": [
       "shape: (5, 40)\n",
       "┌──────┬──────────┬────────────┬────────────┬───┬────────────┬────────────┬───────────┬────────────┐\n",
       "│ FL_D ┆ DEP_HOUR ┆ MKT_UNIQUE ┆ MKT_CARRIE ┆ … ┆ MID_LEVEL_ ┆ HIGH_LEVEL ┆ CLOUD_COV ┆ ACTIVE_WEA │\n",
       "│ ATE  ┆ ---      ┆ _CARRIER   ┆ R_FL_NUM   ┆   ┆ CLOUD      ┆ _CLOUD     ┆ ER        ┆ THER       │\n",
       "│ ---  ┆ i64      ┆ ---        ┆ ---        ┆   ┆ ---        ┆ ---        ┆ ---       ┆ ---        │\n",
       "│ str  ┆          ┆ str        ┆ i64        ┆   ┆ f64        ┆ f64        ┆ f64       ┆ f64        │\n",
       "╞══════╪══════════╪════════════╪════════════╪═══╪════════════╪════════════╪═══════════╪════════════╡\n",
       "│ 2022 ┆ 6        ┆ AA         ┆ 1          ┆ … ┆ 0.0        ┆ 0.0        ┆ 4.0       ┆ 0.0        │\n",
       "│ -01- ┆          ┆            ┆            ┆   ┆            ┆            ┆           ┆            │\n",
       "│ 01   ┆          ┆            ┆            ┆   ┆            ┆            ┆           ┆            │\n",
       "│ 2022 ┆ 8        ┆ AA         ┆ 10         ┆ … ┆ 0.0        ┆ 0.0        ┆ 2.0       ┆ 0.0        │\n",
       "│ -01- ┆          ┆            ┆            ┆   ┆            ┆            ┆           ┆            │\n",
       "│ 01   ┆          ┆            ┆            ┆   ┆            ┆            ┆           ┆            │\n",
       "│ 2022 ┆ 0        ┆ AA         ┆ 1003       ┆ … ┆ null       ┆ null       ┆ null      ┆ null       │\n",
       "│ -01- ┆          ┆            ┆            ┆   ┆            ┆            ┆           ┆            │\n",
       "│ 01   ┆          ┆            ┆            ┆   ┆            ┆            ┆           ┆            │\n",
       "│ 2022 ┆ 9        ┆ AA         ┆ 1004       ┆ … ┆ 0.0        ┆ 0.0        ┆ 4.0       ┆ 1.0        │\n",
       "│ -01- ┆          ┆            ┆            ┆   ┆            ┆            ┆           ┆            │\n",
       "│ 01   ┆          ┆            ┆            ┆   ┆            ┆            ┆           ┆            │\n",
       "│ 2022 ┆ 23       ┆ AA         ┆ 1007       ┆ … ┆ 0.0        ┆ 1.0        ┆ 3.0       ┆ 0.0        │\n",
       "│ -01- ┆          ┆            ┆            ┆   ┆            ┆            ┆           ┆            │\n",
       "│ 01   ┆          ┆            ┆            ┆   ┆            ┆            ┆           ┆            │\n",
       "└──────┴──────────┴────────────┴────────────┴───┴────────────┴────────────┴───────────┴────────────┘"
      ]
     },
     "execution_count": 109,
     "metadata": {},
     "output_type": "execute_result"
    }
   ],
   "source": [
    "# load flights\n",
    "flights: pl.DataFrame = catalog.load(\"flights\")\n",
    "raw_flights_size = flights.estimated_size(unit='gb')\n",
    "print(f\"Raw flights dataset size: {raw_flights_size:.2f} GB\")\n",
    "print(f\"Record count: {flights.shape}\")\n",
    "flights.head()"
   ]
  },
  {
   "cell_type": "code",
   "execution_count": 158,
   "id": "ecc9cae7",
   "metadata": {},
   "outputs": [
    {
     "name": "stdout",
     "output_type": "stream",
     "text": [
      "Parsed flights dataset size: 1.81 GB\n",
      "Relative size reduction after proper dtype conversions: -33.85%\n"
     ]
    },
    {
     "data": {
      "text/html": [
       "<div><style>\n",
       ".dataframe > thead > tr > th,\n",
       ".dataframe > tbody > tr > td {\n",
       "  text-align: right;\n",
       "}\n",
       "</style>\n",
       "<small>shape: (5, 40)</small><table border=\"1\" class=\"dataframe\"><thead><tr><th>fl_date</th><th>dep_hour</th><th>mkt_unique_carrier</th><th>mkt_carrier_fl_num</th><th>op_unique_carrier</th><th>op_carrier_fl_num</th><th>tail_num</th><th>origin</th><th>dep_time</th><th>crs_dep_time</th><th>taxi_out</th><th>dep_delay</th><th>air_time</th><th>distance</th><th>cancelled</th><th>latitude</th><th>longitude</th><th>elevation</th><th>mesonet_station</th><th>year_of_manufacture</th><th>manufacturer</th><th>range</th><th>width</th><th>wind_dir</th><th>wind_spd</th><th>wind_gust</th><th>visibility</th><th>temperature</th><th>dew_point</th><th>rel_humidity</th><th>altimeter</th><th>lowest_cloud_layer</th><th>n_cloud_layer</th><th>low_level_cloud</th><th>mid_level_cloud</th><th>high_level_cloud</th><th>cloud_cover</th><th>active_weather</th><th>destination</th><th>icao_type</th></tr><tr><td>date</td><td>i64</td><td>cat</td><td>str</td><td>cat</td><td>str</td><td>str</td><td>cat</td><td>datetime[μs]</td><td>datetime[μs]</td><td>i64</td><td>i64</td><td>i64</td><td>i64</td><td>i64</td><td>f64</td><td>f64</td><td>i64</td><td>str</td><td>i64</td><td>cat</td><td>cat</td><td>cat</td><td>f64</td><td>f64</td><td>f64</td><td>f64</td><td>f64</td><td>f64</td><td>f64</td><td>f64</td><td>f64</td><td>f64</td><td>bool</td><td>bool</td><td>bool</td><td>f64</td><td>f64</td><td>cat</td><td>cat</td></tr></thead><tbody><tr><td>2022-01-01</td><td>6</td><td>&quot;AA&quot;</td><td>&quot;0001&quot;</td><td>&quot;AA&quot;</td><td>&quot;0001&quot;</td><td>&quot;N106NN&quot;</td><td>&quot;JFK&quot;</td><td>2022-01-01 06:57:00</td><td>2022-01-01 07:00:00</td><td>19</td><td>-3</td><td>347</td><td>2475</td><td>0</td><td>40.64</td><td>-73.77861</td><td>13</td><td>&quot;JFK&quot;</td><td>2014</td><td>&quot;Airbus&quot;</td><td>&quot;Medium Range&quot;</td><td>&quot;Narrow-body&quot;</td><td>180.0</td><td>7.0</td><td>0.0</td><td>8.0</td><td>9.39</td><td>8.89</td><td>96.69</td><td>29.92</td><td>300.0</td><td>2.0</td><td>true</td><td>false</td><td>false</td><td>4.0</td><td>0.0</td><td>&quot;LAX&quot;</td><td>&quot;A321&quot;</td></tr><tr><td>2022-01-01</td><td>8</td><td>&quot;AA&quot;</td><td>&quot;0010&quot;</td><td>&quot;AA&quot;</td><td>&quot;0010&quot;</td><td>&quot;N101NN&quot;</td><td>&quot;LAX&quot;</td><td>2022-01-01 08:57:00</td><td>2022-01-01 09:00:00</td><td>20</td><td>-3</td><td>270</td><td>2475</td><td>0</td><td>33.9425</td><td>-118.40806</td><td>125</td><td>&quot;LAX&quot;</td><td>2013</td><td>&quot;Airbus&quot;</td><td>&quot;Medium Range&quot;</td><td>&quot;Narrow-body&quot;</td><td>20.0</td><td>6.0</td><td>0.0</td><td>10.0</td><td>12.22</td><td>0.61</td><td>44.92</td><td>29.87</td><td>4800.0</td><td>1.0</td><td>true</td><td>false</td><td>false</td><td>2.0</td><td>0.0</td><td>&quot;JFK&quot;</td><td>&quot;A321&quot;</td></tr><tr><td>2022-01-01</td><td>0</td><td>&quot;AA&quot;</td><td>&quot;1003&quot;</td><td>&quot;AA&quot;</td><td>&quot;1003&quot;</td><td>&quot;N830NN&quot;</td><td>&quot;STL&quot;</td><td>2022-01-01 00:00:00</td><td>2022-01-01 07:05:00</td><td>0</td><td>0</td><td>0</td><td>258</td><td>2</td><td>38.74861</td><td>-90.37</td><td>618</td><td>&quot;STL&quot;</td><td>2010</td><td>&quot;Boeing&quot;</td><td>&quot;Medium Range&quot;</td><td>&quot;Narrow-body&quot;</td><td>null</td><td>null</td><td>null</td><td>null</td><td>null</td><td>null</td><td>null</td><td>null</td><td>null</td><td>null</td><td>null</td><td>null</td><td>null</td><td>null</td><td>null</td><td>&quot;ORD&quot;</td><td>&quot;B738&quot;</td></tr><tr><td>2022-01-01</td><td>9</td><td>&quot;AA&quot;</td><td>&quot;1004&quot;</td><td>&quot;AA&quot;</td><td>&quot;1004&quot;</td><td>&quot;N805NN&quot;</td><td>&quot;ORD&quot;</td><td>2022-01-01 09:37:00</td><td>2022-01-01 18:30:00</td><td>23</td><td>907</td><td>166</td><td>1182</td><td>0</td><td>41.976944</td><td>-87.90806</td><td>672</td><td>&quot;ORD&quot;</td><td>2009</td><td>&quot;Boeing&quot;</td><td>&quot;Medium Range&quot;</td><td>&quot;Narrow-body&quot;</td><td>360.0</td><td>9.0</td><td>0.0</td><td>5.0</td><td>2.22</td><td>0.61</td><td>89.09</td><td>29.75</td><td>500.0</td><td>1.0</td><td>true</td><td>false</td><td>false</td><td>4.0</td><td>1.0</td><td>&quot;FLL&quot;</td><td>&quot;B738&quot;</td></tr><tr><td>2022-01-01</td><td>23</td><td>&quot;AA&quot;</td><td>&quot;1007&quot;</td><td>&quot;AA&quot;</td><td>&quot;1007&quot;</td><td>&quot;N870NN&quot;</td><td>&quot;CLT&quot;</td><td>2022-01-01 23:00:00</td><td>2022-01-01 22:40:00</td><td>16</td><td>20</td><td>104</td><td>575</td><td>0</td><td>35.21361</td><td>-80.949165</td><td>748</td><td>&quot;CLT&quot;</td><td>2011</td><td>&quot;Boeing&quot;</td><td>&quot;Medium Range&quot;</td><td>&quot;Narrow-body&quot;</td><td>220.0</td><td>8.0</td><td>0.0</td><td>10.0</td><td>20.0</td><td>18.28</td><td>89.81</td><td>29.79</td><td>1500.0</td><td>3.0</td><td>true</td><td>false</td><td>true</td><td>3.0</td><td>0.0</td><td>&quot;STL&quot;</td><td>&quot;B738&quot;</td></tr></tbody></table></div>"
      ],
      "text/plain": [
       "shape: (5, 40)\n",
       "┌────────┬──────────┬────────────┬────────────┬───┬───────────┬────────────┬───────────┬───────────┐\n",
       "│ fl_dat ┆ dep_hour ┆ mkt_unique ┆ mkt_carrie ┆ … ┆ cloud_cov ┆ active_wea ┆ destinati ┆ icao_type │\n",
       "│ e      ┆ ---      ┆ _carrier   ┆ r_fl_num   ┆   ┆ er        ┆ ther       ┆ on        ┆ ---       │\n",
       "│ ---    ┆ i64      ┆ ---        ┆ ---        ┆   ┆ ---       ┆ ---        ┆ ---       ┆ cat       │\n",
       "│ date   ┆          ┆ cat        ┆ str        ┆   ┆ f64       ┆ f64        ┆ cat       ┆           │\n",
       "╞════════╪══════════╪════════════╪════════════╪═══╪═══════════╪════════════╪═══════════╪═══════════╡\n",
       "│ 2022-0 ┆ 6        ┆ AA         ┆ 0001       ┆ … ┆ 4.0       ┆ 0.0        ┆ LAX       ┆ A321      │\n",
       "│ 1-01   ┆          ┆            ┆            ┆   ┆           ┆            ┆           ┆           │\n",
       "│ 2022-0 ┆ 8        ┆ AA         ┆ 0010       ┆ … ┆ 2.0       ┆ 0.0        ┆ JFK       ┆ A321      │\n",
       "│ 1-01   ┆          ┆            ┆            ┆   ┆           ┆            ┆           ┆           │\n",
       "│ 2022-0 ┆ 0        ┆ AA         ┆ 1003       ┆ … ┆ null      ┆ null       ┆ ORD       ┆ B738      │\n",
       "│ 1-01   ┆          ┆            ┆            ┆   ┆           ┆            ┆           ┆           │\n",
       "│ 2022-0 ┆ 9        ┆ AA         ┆ 1004       ┆ … ┆ 4.0       ┆ 1.0        ┆ FLL       ┆ B738      │\n",
       "│ 1-01   ┆          ┆            ┆            ┆   ┆           ┆            ┆           ┆           │\n",
       "│ 2022-0 ┆ 23       ┆ AA         ┆ 1007       ┆ … ┆ 3.0       ┆ 0.0        ┆ STL       ┆ B738      │\n",
       "│ 1-01   ┆          ┆            ┆            ┆   ┆           ┆            ┆           ┆           │\n",
       "└────────┴──────────┴────────────┴────────────┴───┴───────────┴────────────┴───────────┴───────────┘"
      ]
     },
     "execution_count": 158,
     "metadata": {},
     "output_type": "execute_result"
    }
   ],
   "source": [
    "# perform type conversion on flights\n",
    "def parse_flights(raw_flights: pl.DataFrame) -> pl.DataFrame:\n",
    "    df = (\n",
    "        raw_flights.lazy()\n",
    "        .with_columns(\n",
    "            pl.col(\"FL_DATE\").str.to_date(),\n",
    "            pl.col(\"MKT_UNIQUE_CARRIER\").cast(pl.Categorical),\n",
    "            pl.col(\"MKT_CARRIER_FL_NUM\").cast(str).str.zfill(4),\n",
    "            pl.col(\"OP_UNIQUE_CARRIER\").cast(pl.Categorical),\n",
    "            pl.col(\"OP_CARRIER_FL_NUM\").cast(str).str.zfill(4),\n",
    "            pl.col(\"ORIGIN\").cast(pl.Categorical),\n",
    "            pl.col(\"DEST\").cast(pl.Categorical).alias(\"DESTINATION\"),\n",
    "            pl.col(\"DEP_TIME\").str.to_datetime(),\n",
    "            pl.col(\"CRS_DEP_TIME\").str.to_datetime(),\n",
    "            pl.col(\"MANUFACTURER\").cast(pl.Categorical),\n",
    "            pl.col(\"ICAO TYPE\").cast(pl.Categorical).alias(\"ICAO_TYPE\"),\n",
    "            pl.col(\"RANGE\").cast(pl.Categorical),\n",
    "            pl.col(\"WIDTH\").cast(pl.Categorical),\n",
    "            pl.col(\"LOW_LEVEL_CLOUD\").cast(pl.Boolean),\n",
    "            pl.col(\"MID_LEVEL_CLOUD\").cast(pl.Boolean),\n",
    "            pl.col(\"HIGH_LEVEL_CLOUD\").cast(pl.Boolean),\n",
    "        )\n",
    "        .drop(\"DEST\", \"ICAO TYPE\")\n",
    "        .collect()\n",
    "    )\n",
    "    df.columns = format_column_names(df.columns)\n",
    "    return df\n",
    "\n",
    "\n",
    "# compute and print post conversion stats\n",
    "parsed_flights = parse_flights(flights)\n",
    "\n",
    "SIZE_UNIT_FLIGHTS = \"gb\"\n",
    "parsed_flights_size = parsed_flights.estimated_size(unit=SIZE_UNIT_FLIGHTS)\n",
    "size_diff_pct = (parsed_flights_size - raw_flights_size) / raw_flights_size\n",
    "\n",
    "print(\n",
    "    f\"Parsed flights dataset size: {parsed_flights_size:.2f} {SIZE_UNIT_FLIGHTS.upper()}\"\n",
    ")\n",
    "print(f\"Relative size reduction after proper dtype conversions: {size_diff_pct:.2%}\")\n",
    "\n",
    "parsed_flights.head()\n"
   ]
  },
  {
   "cell_type": "code",
   "execution_count": 127,
   "id": "7a4edcb8",
   "metadata": {},
   "outputs": [
    {
     "data": {
      "text/html": [
       "<div><style>\n",
       ".dataframe > thead > tr > th,\n",
       ".dataframe > tbody > tr > td {\n",
       "  text-align: right;\n",
       "}\n",
       "</style>\n",
       "<small>shape: (35, 1)</small><table border=\"1\" class=\"dataframe\"><thead><tr><th>ICAO_TYPE</th></tr><tr><td>cat</td></tr></thead><tbody><tr><td>&quot;A321&quot;</td></tr><tr><td>&quot;B738&quot;</td></tr><tr><td>&quot;A319&quot;</td></tr><tr><td>&quot;B789&quot;</td></tr><tr><td>&quot;B772&quot;</td></tr><tr><td>&quot;A320&quot;</td></tr><tr><td>&quot;B788&quot;</td></tr><tr><td>&quot;A21N&quot;</td></tr><tr><td>&quot;B38M&quot;</td></tr><tr><td>&quot;B77W&quot;</td></tr><tr><td>&quot;CRJ7&quot;</td></tr><tr><td>&quot;E75L&quot;</td></tr><tr><td>&quot;E145&quot;</td></tr><tr><td>&quot;E170&quot;</td></tr><tr><td>&quot;CRJ9&quot;</td></tr><tr><td>&quot;B739&quot;</td></tr><tr><td>&quot;B737&quot;</td></tr><tr><td>&quot;B39M&quot;</td></tr><tr><td>&quot;DH8D&quot;</td></tr><tr><td>&quot;BCS3&quot;</td></tr><tr><td>&quot;E190&quot;</td></tr><tr><td>&quot;B753&quot;</td></tr><tr><td>&quot;BCS1&quot;</td></tr><tr><td>&quot;B764&quot;</td></tr><tr><td>&quot;B752&quot;</td></tr><tr><td>&quot;B763&quot;</td></tr><tr><td>&quot;A333&quot;</td></tr><tr><td>&quot;B712&quot;</td></tr><tr><td>&quot;A359&quot;</td></tr><tr><td>&quot;A332&quot;</td></tr><tr><td>&quot;CRJ2&quot;</td></tr><tr><td>&quot;A339&quot;</td></tr><tr><td>&quot;A20N&quot;</td></tr><tr><td>&quot;B78X&quot;</td></tr><tr><td>&quot;Unknown&quot;</td></tr></tbody></table></div>"
      ],
      "text/plain": [
       "shape: (35, 1)\n",
       "┌───────────┐\n",
       "│ ICAO_TYPE │\n",
       "│ ---       │\n",
       "│ cat       │\n",
       "╞═══════════╡\n",
       "│ A321      │\n",
       "│ B738      │\n",
       "│ A319      │\n",
       "│ B789      │\n",
       "│ B772      │\n",
       "│ A320      │\n",
       "│ B788      │\n",
       "│ A21N      │\n",
       "│ B38M      │\n",
       "│ B77W      │\n",
       "│ CRJ7      │\n",
       "│ E75L      │\n",
       "│ E145      │\n",
       "│ E170      │\n",
       "│ CRJ9      │\n",
       "│ B739      │\n",
       "│ B737      │\n",
       "│ B39M      │\n",
       "│ DH8D      │\n",
       "│ BCS3      │\n",
       "│ E190      │\n",
       "│ B753      │\n",
       "│ BCS1      │\n",
       "│ B764      │\n",
       "│ B752      │\n",
       "│ B763      │\n",
       "│ A333      │\n",
       "│ B712      │\n",
       "│ A359      │\n",
       "│ A332      │\n",
       "│ CRJ2      │\n",
       "│ A339      │\n",
       "│ A20N      │\n",
       "│ B78X      │\n",
       "│ Unknown   │\n",
       "└───────────┘"
      ]
     },
     "execution_count": 127,
     "metadata": {},
     "output_type": "execute_result"
    }
   ],
   "source": [
    "parsed_flights.select(\"ICAO_TYPE\").unique()"
   ]
  },
  {
   "attachments": {},
   "cell_type": "markdown",
   "id": "2149867b",
   "metadata": {},
   "source": [
    "## Testing requests to Census API"
   ]
  },
  {
   "cell_type": "code",
   "execution_count": 4,
   "id": "a06c229b",
   "metadata": {},
   "outputs": [],
   "source": [
    "# load credentials for accessing the US Census API\n",
    "from kedro.config import ConfigLoader, MissingConfigException\n",
    "from kedro.framework.project import settings\n",
    "from pathlib import Path\n",
    "\n",
    "conf_path = str(Path.cwd().parent / settings.CONF_SOURCE)\n",
    "conf_loader = ConfigLoader(conf_source=conf_path)\n",
    "\n",
    "try:\n",
    "    credentials = conf_loader[\"credentials\"]\n",
    "except MissingConfigException:\n",
    "    credentials = {}\n"
   ]
  },
  {
   "cell_type": "code",
   "execution_count": 3,
   "id": "e35b2316",
   "metadata": {},
   "outputs": [
    {
     "data": {
      "text/html": [
       "<pre style=\"white-space:pre;overflow-x:auto;line-height:normal;font-family:Menlo,'DejaVu Sans Mono',consolas,'Courier New',monospace\"><span style=\"color: #7fbfbf; text-decoration-color: #7fbfbf\">[05/06/23 16:01:48] </span><span style=\"color: #000080; text-decoration-color: #000080\">INFO    </span> Loading data from <span style=\"color: #008000; text-decoration-color: #008000\">'raw_census_population'</span> <span style=\"font-weight: bold\">(</span>APIDataSet<span style=\"font-weight: bold\">)</span><span style=\"color: #808000; text-decoration-color: #808000\">...</span>          <a href=\"file:///Users/gurau/code/training/udacity_de/airport-data-project/venv/lib/python3.8/site-packages/kedro/io/data_catalog.py\" target=\"_blank\"><span style=\"color: #7f7f7f; text-decoration-color: #7f7f7f\">data_catalog.py</span></a><span style=\"color: #7f7f7f; text-decoration-color: #7f7f7f\">:</span><a href=\"file:///Users/gurau/code/training/udacity_de/airport-data-project/venv/lib/python3.8/site-packages/kedro/io/data_catalog.py#343\" target=\"_blank\"><span style=\"color: #7f7f7f; text-decoration-color: #7f7f7f\">343</span></a>\n",
       "</pre>\n"
      ],
      "text/plain": [
       "\u001b[2;36m[05/06/23 16:01:48]\u001b[0m\u001b[2;36m \u001b[0m\u001b[34mINFO    \u001b[0m Loading data from \u001b[32m'raw_census_population'\u001b[0m \u001b[1m(\u001b[0mAPIDataSet\u001b[1m)\u001b[0m\u001b[33m...\u001b[0m          \u001b]8;id=225830;file:///Users/gurau/code/training/udacity_de/airport-data-project/venv/lib/python3.8/site-packages/kedro/io/data_catalog.py\u001b\\\u001b[2mdata_catalog.py\u001b[0m\u001b]8;;\u001b\\\u001b[2m:\u001b[0m\u001b]8;id=5768;file:///Users/gurau/code/training/udacity_de/airport-data-project/venv/lib/python3.8/site-packages/kedro/io/data_catalog.py#343\u001b\\\u001b[2m343\u001b[0m\u001b]8;;\u001b\\\n"
      ]
     },
     "metadata": {},
     "output_type": "display_data"
    }
   ],
   "source": [
    "# load census data\n",
    "census_pop_response: requests.Response = catalog.load(\"raw_census_population\")\n",
    "if census_pop_response.status_code >= 400:\n",
    "    raise ValueError(f\"Census API error: {census_pop_response.text}\")\n",
    "\n",
    "census_pop_data = census_pop_response.json()\n"
   ]
  },
  {
   "cell_type": "code",
   "execution_count": 148,
   "id": "34f9b4f7",
   "metadata": {},
   "outputs": [
    {
     "name": "stdout",
     "output_type": "stream",
     "text": [
      "All DQ checks on population data passed!\n"
     ]
    },
    {
     "data": {
      "text/html": [
       "<div><style>\n",
       ".dataframe > thead > tr > th,\n",
       ".dataframe > tbody > tr > td {\n",
       "  text-align: right;\n",
       "}\n",
       "</style>\n",
       "<small>shape: (52, 4)</small><table border=\"1\" class=\"dataframe\"><thead><tr><th>name</th><th>lastupdate</th><th>state</th><th>population</th></tr><tr><td>str</td><td>date</td><td>str</td><td>i64</td></tr></thead><tbody><tr><td>&quot;Alabama&quot;</td><td>2021-12-21</td><td>&quot;01&quot;</td><td>5039877</td></tr><tr><td>&quot;Alaska&quot;</td><td>2021-12-21</td><td>&quot;02&quot;</td><td>732673</td></tr><tr><td>&quot;Arizona&quot;</td><td>2021-12-21</td><td>&quot;04&quot;</td><td>7276316</td></tr><tr><td>&quot;Arkansas&quot;</td><td>2021-12-21</td><td>&quot;05&quot;</td><td>3025891</td></tr><tr><td>&quot;California&quot;</td><td>2021-12-21</td><td>&quot;06&quot;</td><td>39237836</td></tr><tr><td>&quot;Colorado&quot;</td><td>2021-12-21</td><td>&quot;08&quot;</td><td>5812069</td></tr><tr><td>&quot;Connecticut&quot;</td><td>2021-12-21</td><td>&quot;09&quot;</td><td>3605597</td></tr><tr><td>&quot;Delaware&quot;</td><td>2021-12-21</td><td>&quot;10&quot;</td><td>1003384</td></tr><tr><td>&quot;District of Columbia&quot;</td><td>2021-12-21</td><td>&quot;11&quot;</td><td>670050</td></tr><tr><td>&quot;Florida&quot;</td><td>2021-12-21</td><td>&quot;12&quot;</td><td>21781128</td></tr><tr><td>&quot;Georgia&quot;</td><td>2021-12-21</td><td>&quot;13&quot;</td><td>10799566</td></tr><tr><td>&quot;Hawaii&quot;</td><td>2021-12-21</td><td>&quot;15&quot;</td><td>1441553</td></tr><tr><td>&quot;Idaho&quot;</td><td>2021-12-21</td><td>&quot;16&quot;</td><td>1900923</td></tr><tr><td>&quot;Illinois&quot;</td><td>2021-12-21</td><td>&quot;17&quot;</td><td>12671469</td></tr><tr><td>&quot;Indiana&quot;</td><td>2021-12-21</td><td>&quot;18&quot;</td><td>6805985</td></tr><tr><td>&quot;Iowa&quot;</td><td>2021-12-21</td><td>&quot;19&quot;</td><td>3193079</td></tr><tr><td>&quot;Kansas&quot;</td><td>2021-12-21</td><td>&quot;20&quot;</td><td>2934582</td></tr><tr><td>&quot;Kentucky&quot;</td><td>2021-12-21</td><td>&quot;21&quot;</td><td>4509394</td></tr><tr><td>&quot;Louisiana&quot;</td><td>2021-12-21</td><td>&quot;22&quot;</td><td>4624047</td></tr><tr><td>&quot;Maine&quot;</td><td>2021-12-21</td><td>&quot;23&quot;</td><td>1372247</td></tr><tr><td>&hellip;</td><td>&hellip;</td><td>&hellip;</td><td>&hellip;</td></tr><tr><td>&quot;New York&quot;</td><td>2021-12-21</td><td>&quot;36&quot;</td><td>19835913</td></tr><tr><td>&quot;North Carolina&quot;</td><td>2021-12-21</td><td>&quot;37&quot;</td><td>10551162</td></tr><tr><td>&quot;North Dakota&quot;</td><td>2021-12-21</td><td>&quot;38&quot;</td><td>774948</td></tr><tr><td>&quot;Ohio&quot;</td><td>2021-12-21</td><td>&quot;39&quot;</td><td>11780017</td></tr><tr><td>&quot;Oklahoma&quot;</td><td>2021-12-21</td><td>&quot;40&quot;</td><td>3986639</td></tr><tr><td>&quot;Oregon&quot;</td><td>2021-12-21</td><td>&quot;41&quot;</td><td>4246155</td></tr><tr><td>&quot;Pennsylvania&quot;</td><td>2021-12-21</td><td>&quot;42&quot;</td><td>12964056</td></tr><tr><td>&quot;Puerto Rico&quot;</td><td>2021-12-21</td><td>&quot;72&quot;</td><td>3263584</td></tr><tr><td>&quot;Rhode Island&quot;</td><td>2021-12-21</td><td>&quot;44&quot;</td><td>1095610</td></tr><tr><td>&quot;South Carolina&quot;</td><td>2021-12-21</td><td>&quot;45&quot;</td><td>5190705</td></tr><tr><td>&quot;South Dakota&quot;</td><td>2021-12-21</td><td>&quot;46&quot;</td><td>895376</td></tr><tr><td>&quot;Tennessee&quot;</td><td>2021-12-21</td><td>&quot;47&quot;</td><td>6975218</td></tr><tr><td>&quot;Texas&quot;</td><td>2021-12-21</td><td>&quot;48&quot;</td><td>29527941</td></tr><tr><td>&quot;Utah&quot;</td><td>2021-12-21</td><td>&quot;49&quot;</td><td>3337975</td></tr><tr><td>&quot;Vermont&quot;</td><td>2021-12-21</td><td>&quot;50&quot;</td><td>645570</td></tr><tr><td>&quot;Virginia&quot;</td><td>2021-12-21</td><td>&quot;51&quot;</td><td>8642274</td></tr><tr><td>&quot;Washington&quot;</td><td>2021-12-21</td><td>&quot;53&quot;</td><td>7738692</td></tr><tr><td>&quot;West Virginia&quot;</td><td>2021-12-21</td><td>&quot;54&quot;</td><td>1782959</td></tr><tr><td>&quot;Wisconsin&quot;</td><td>2021-12-21</td><td>&quot;55&quot;</td><td>5895908</td></tr><tr><td>&quot;Wyoming&quot;</td><td>2021-12-21</td><td>&quot;56&quot;</td><td>578803</td></tr></tbody></table></div>"
      ],
      "text/plain": [
       "shape: (52, 4)\n",
       "┌──────────────────────┬────────────┬───────┬────────────┐\n",
       "│ name                 ┆ lastupdate ┆ state ┆ population │\n",
       "│ ---                  ┆ ---        ┆ ---   ┆ ---        │\n",
       "│ str                  ┆ date       ┆ str   ┆ i64        │\n",
       "╞══════════════════════╪════════════╪═══════╪════════════╡\n",
       "│ Alabama              ┆ 2021-12-21 ┆ 01    ┆ 5039877    │\n",
       "│ Alaska               ┆ 2021-12-21 ┆ 02    ┆ 732673     │\n",
       "│ Arizona              ┆ 2021-12-21 ┆ 04    ┆ 7276316    │\n",
       "│ Arkansas             ┆ 2021-12-21 ┆ 05    ┆ 3025891    │\n",
       "│ California           ┆ 2021-12-21 ┆ 06    ┆ 39237836   │\n",
       "│ Colorado             ┆ 2021-12-21 ┆ 08    ┆ 5812069    │\n",
       "│ Connecticut          ┆ 2021-12-21 ┆ 09    ┆ 3605597    │\n",
       "│ Delaware             ┆ 2021-12-21 ┆ 10    ┆ 1003384    │\n",
       "│ District of Columbia ┆ 2021-12-21 ┆ 11    ┆ 670050     │\n",
       "│ Florida              ┆ 2021-12-21 ┆ 12    ┆ 21781128   │\n",
       "│ Georgia              ┆ 2021-12-21 ┆ 13    ┆ 10799566   │\n",
       "│ Hawaii               ┆ 2021-12-21 ┆ 15    ┆ 1441553    │\n",
       "│ Idaho                ┆ 2021-12-21 ┆ 16    ┆ 1900923    │\n",
       "│ Illinois             ┆ 2021-12-21 ┆ 17    ┆ 12671469   │\n",
       "│ Indiana              ┆ 2021-12-21 ┆ 18    ┆ 6805985    │\n",
       "│ Iowa                 ┆ 2021-12-21 ┆ 19    ┆ 3193079    │\n",
       "│ Kansas               ┆ 2021-12-21 ┆ 20    ┆ 2934582    │\n",
       "│ Kentucky             ┆ 2021-12-21 ┆ 21    ┆ 4509394    │\n",
       "│ Louisiana            ┆ 2021-12-21 ┆ 22    ┆ 4624047    │\n",
       "│ Maine                ┆ 2021-12-21 ┆ 23    ┆ 1372247    │\n",
       "│ …                    ┆ …          ┆ …     ┆ …          │\n",
       "│ New York             ┆ 2021-12-21 ┆ 36    ┆ 19835913   │\n",
       "│ North Carolina       ┆ 2021-12-21 ┆ 37    ┆ 10551162   │\n",
       "│ North Dakota         ┆ 2021-12-21 ┆ 38    ┆ 774948     │\n",
       "│ Ohio                 ┆ 2021-12-21 ┆ 39    ┆ 11780017   │\n",
       "│ Oklahoma             ┆ 2021-12-21 ┆ 40    ┆ 3986639    │\n",
       "│ Oregon               ┆ 2021-12-21 ┆ 41    ┆ 4246155    │\n",
       "│ Pennsylvania         ┆ 2021-12-21 ┆ 42    ┆ 12964056   │\n",
       "│ Puerto Rico          ┆ 2021-12-21 ┆ 72    ┆ 3263584    │\n",
       "│ Rhode Island         ┆ 2021-12-21 ┆ 44    ┆ 1095610    │\n",
       "│ South Carolina       ┆ 2021-12-21 ┆ 45    ┆ 5190705    │\n",
       "│ South Dakota         ┆ 2021-12-21 ┆ 46    ┆ 895376     │\n",
       "│ Tennessee            ┆ 2021-12-21 ┆ 47    ┆ 6975218    │\n",
       "│ Texas                ┆ 2021-12-21 ┆ 48    ┆ 29527941   │\n",
       "│ Utah                 ┆ 2021-12-21 ┆ 49    ┆ 3337975    │\n",
       "│ Vermont              ┆ 2021-12-21 ┆ 50    ┆ 645570     │\n",
       "│ Virginia             ┆ 2021-12-21 ┆ 51    ┆ 8642274    │\n",
       "│ Washington           ┆ 2021-12-21 ┆ 53    ┆ 7738692    │\n",
       "│ West Virginia        ┆ 2021-12-21 ┆ 54    ┆ 1782959    │\n",
       "│ Wisconsin            ┆ 2021-12-21 ┆ 55    ┆ 5895908    │\n",
       "│ Wyoming              ┆ 2021-12-21 ┆ 56    ┆ 578803     │\n",
       "└──────────────────────┴────────────┴───────┴────────────┘"
      ]
     },
     "execution_count": 148,
     "metadata": {},
     "output_type": "execute_result"
    }
   ],
   "source": [
    "def parse_population(raw_data: List[List[str]]) -> pl.DataFrame:\n",
    "    \"\"\"\n",
    "    Parses population data received from the API and returns a polars DataFrame.\n",
    "\n",
    "    The first record of the response is the header.\n",
    "    All other reocrds are the data rows.\n",
    "    \"\"\"\n",
    "    return pl.from_records(raw_data[1:], schema=raw_data[0])\n",
    "\n",
    "\n",
    "def transform_population(population: pl.DataFrame) -> pl.DataFrame:\n",
    "    \"\"\"Perform type casts, column cleaning, renaming, and sorting\"\"\"\n",
    "    df = (\n",
    "        population.rename({\"POP_2021\": \"POPULATION\"})\n",
    "        .with_columns(\n",
    "            pl.col(\"LASTUPDATE\").str.to_date(r\"%B. %d, %Y\"),\n",
    "            pl.col(\"POPULATION\").cast(pl.Int64),\n",
    "        )\n",
    "        .drop(\"state\")\n",
    "        .sort(by=\"NAME\")\n",
    "    )\n",
    "    df.columns = format_column_names(df.columns)\n",
    "    return df\n",
    "\n",
    "\n",
    "def dq_population(population: pl.DataFrame) -> None:\n",
    "    \"\"\"Runs data quality checks on population data\"\"\"\n",
    "    # check for negative population values\n",
    "    if not population.filter(pl.col(\"population\") < 0).is_empty():\n",
    "        raise ValueError(\"Negative population values found\")\n",
    "\n",
    "    print(\"All DQ checks on population data passed!\")\n",
    "\n",
    "\n",
    "pop = parse_population(census_pop_data)\n",
    "tp = transform_population(pop)\n",
    "dq_population(tp)\n",
    "\n",
    "tp\n"
   ]
  },
  {
   "cell_type": "code",
   "execution_count": null,
   "id": "1f63df68",
   "metadata": {},
   "outputs": [],
   "source": []
  }
 ],
 "metadata": {
  "kernelspec": {
   "display_name": "venv",
   "language": "python",
   "name": "python3"
  },
  "language_info": {
   "codemirror_mode": {
    "name": "ipython",
    "version": 3
   },
   "file_extension": ".py",
   "mimetype": "text/x-python",
   "name": "python",
   "nbconvert_exporter": "python",
   "pygments_lexer": "ipython3",
   "version": "3.8.10"
  }
 },
 "nbformat": 4,
 "nbformat_minor": 5
}
